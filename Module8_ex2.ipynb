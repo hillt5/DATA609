{
  "cells": [
    {
      "cell_type": "markdown",
      "metadata": {
        "id": "view-in-github",
        "colab_type": "text"
      },
      "source": [
        "<a href=\"https://colab.research.google.com/github/hillt5/DATA609/blob/main/Module8_ex2.ipynb\" target=\"_parent\"><img src=\"https://colab.research.google.com/assets/colab-badge.svg\" alt=\"Open In Colab\"/></a>"
      ]
    },
    {
      "cell_type": "markdown",
      "source": [
        "by Thomas Hill 12/12/21\n",
        "\n",
        "\n",
        "**Ex. 2** -- As a mini-project, install the *keras* package and learn how to use it. Then, carry out various tasks that may be useful to your project and studies."
      ],
      "metadata": {
        "id": "95jgam0TFqoN"
      }
    },
    {
      "cell_type": "code",
      "execution_count": 1,
      "metadata": {
        "id": "6sLbASOr01m4"
      },
      "outputs": [],
      "source": [
        "import tensorflow"
      ]
    },
    {
      "cell_type": "code",
      "execution_count": 2,
      "metadata": {
        "id": "teBIRxiJ2I3i"
      },
      "outputs": [],
      "source": [
        "import keras"
      ]
    },
    {
      "cell_type": "code",
      "execution_count": 3,
      "metadata": {
        "id": "gBkHC3vt182m"
      },
      "outputs": [],
      "source": [
        "import numpy as np\n",
        "np.random.seed(1212)\n",
        "from sklearn import datasets\n",
        "iris = datasets.load_iris()\n",
        "from sklearn.model_selection import train_test_split\n",
        "from keras.models import Sequential\n",
        "from keras.layers import Dense\n"
      ]
    },
    {
      "cell_type": "code",
      "execution_count": 4,
      "metadata": {
        "id": "LQTlj_tc2LIh"
      },
      "outputs": [],
      "source": [
        "x = iris.data #measurements\n",
        "y = iris.target.reshape(-1,1) #data labels in a single column"
      ]
    },
    {
      "cell_type": "code",
      "execution_count": 5,
      "metadata": {
        "id": "sEBkHZBQ_xNu"
      },
      "outputs": [],
      "source": [
        "model = Sequential() #define model"
      ]
    },
    {
      "cell_type": "code",
      "execution_count": 6,
      "metadata": {
        "id": "iVNc_hnHAHPW"
      },
      "outputs": [],
      "source": [
        "train_x, test_x, train_y, test_y = train_test_split(x, y, test_size=0.20) #80% as training set"
      ]
    },
    {
      "cell_type": "code",
      "execution_count": 7,
      "metadata": {
        "colab": {
          "base_uri": "https://localhost:8080/"
        },
        "id": "IgLkT4j6AUj0",
        "outputId": "443d72bd-b5aa-4561-b7e4-3949a499c66f"
      },
      "outputs": [
        {
          "output_type": "stream",
          "name": "stdout",
          "text": [
            "(None, 1)\n"
          ]
        }
      ],
      "source": [
        "model.add(Dense(4, input_shape=(4,), activation='relu'))\n",
        "model.add(Dense(1, activation='softmax', name='output'))\n",
        "\n",
        "print(model.output_shape)"
      ]
    },
    {
      "cell_type": "code",
      "source": [
        "model.compile(loss='categorical_crossentropy',\n",
        "              optimizer='adam',\n",
        "              metrics=['accuracy'])"
      ],
      "metadata": {
        "id": "kXZYrBZNC1U_"
      },
      "execution_count": 8,
      "outputs": []
    },
    {
      "cell_type": "code",
      "source": [
        "print(model.summary())"
      ],
      "metadata": {
        "colab": {
          "base_uri": "https://localhost:8080/"
        },
        "id": "ljAP8CeEC5nH",
        "outputId": "a39dd9eb-20fb-4463-f034-ddff9a3ad499"
      },
      "execution_count": 9,
      "outputs": [
        {
          "output_type": "stream",
          "name": "stdout",
          "text": [
            "Model: \"sequential\"\n",
            "_________________________________________________________________\n",
            " Layer (type)                Output Shape              Param #   \n",
            "=================================================================\n",
            " dense (Dense)               (None, 4)                 20        \n",
            "                                                                 \n",
            " output (Dense)              (None, 1)                 5         \n",
            "                                                                 \n",
            "=================================================================\n",
            "Total params: 25\n",
            "Trainable params: 25\n",
            "Non-trainable params: 0\n",
            "_________________________________________________________________\n",
            "None\n"
          ]
        }
      ]
    },
    {
      "cell_type": "code",
      "source": [
        "model.fit(train_x, train_y, verbose=2, batch_size=5, epochs=200)\n"
      ],
      "metadata": {
        "colab": {
          "base_uri": "https://localhost:8080/"
        },
        "id": "42yOIY-UC_as",
        "outputId": "ab79c351-ae92-4db1-b32a-2141a18f2062"
      },
      "execution_count": 10,
      "outputs": [
        {
          "output_type": "stream",
          "name": "stdout",
          "text": [
            "Epoch 1/200\n",
            "24/24 - 0s - loss: 0.0000e+00 - accuracy: 0.3167 - 457ms/epoch - 19ms/step\n",
            "Epoch 2/200\n",
            "24/24 - 0s - loss: 0.0000e+00 - accuracy: 0.3167 - 25ms/epoch - 1ms/step\n",
            "Epoch 3/200\n",
            "24/24 - 0s - loss: 0.0000e+00 - accuracy: 0.3167 - 40ms/epoch - 2ms/step\n",
            "Epoch 4/200\n",
            "24/24 - 0s - loss: 0.0000e+00 - accuracy: 0.3167 - 32ms/epoch - 1ms/step\n",
            "Epoch 5/200\n",
            "24/24 - 0s - loss: 0.0000e+00 - accuracy: 0.3167 - 28ms/epoch - 1ms/step\n",
            "Epoch 6/200\n",
            "24/24 - 0s - loss: 0.0000e+00 - accuracy: 0.3167 - 34ms/epoch - 1ms/step\n",
            "Epoch 7/200\n",
            "24/24 - 0s - loss: 0.0000e+00 - accuracy: 0.3167 - 35ms/epoch - 1ms/step\n",
            "Epoch 8/200\n",
            "24/24 - 0s - loss: 0.0000e+00 - accuracy: 0.3167 - 35ms/epoch - 1ms/step\n",
            "Epoch 9/200\n",
            "24/24 - 0s - loss: 0.0000e+00 - accuracy: 0.3167 - 37ms/epoch - 2ms/step\n",
            "Epoch 10/200\n",
            "24/24 - 0s - loss: 0.0000e+00 - accuracy: 0.3167 - 33ms/epoch - 1ms/step\n",
            "Epoch 11/200\n",
            "24/24 - 0s - loss: 0.0000e+00 - accuracy: 0.3167 - 38ms/epoch - 2ms/step\n",
            "Epoch 12/200\n",
            "24/24 - 0s - loss: 0.0000e+00 - accuracy: 0.3167 - 29ms/epoch - 1ms/step\n",
            "Epoch 13/200\n",
            "24/24 - 0s - loss: 0.0000e+00 - accuracy: 0.3167 - 44ms/epoch - 2ms/step\n",
            "Epoch 14/200\n",
            "24/24 - 0s - loss: 0.0000e+00 - accuracy: 0.3167 - 31ms/epoch - 1ms/step\n",
            "Epoch 15/200\n",
            "24/24 - 0s - loss: 0.0000e+00 - accuracy: 0.3167 - 31ms/epoch - 1ms/step\n",
            "Epoch 16/200\n",
            "24/24 - 0s - loss: 0.0000e+00 - accuracy: 0.3167 - 33ms/epoch - 1ms/step\n",
            "Epoch 17/200\n",
            "24/24 - 0s - loss: 0.0000e+00 - accuracy: 0.3167 - 38ms/epoch - 2ms/step\n",
            "Epoch 18/200\n",
            "24/24 - 0s - loss: 0.0000e+00 - accuracy: 0.3167 - 34ms/epoch - 1ms/step\n",
            "Epoch 19/200\n",
            "24/24 - 0s - loss: 0.0000e+00 - accuracy: 0.3167 - 33ms/epoch - 1ms/step\n",
            "Epoch 20/200\n",
            "24/24 - 0s - loss: 0.0000e+00 - accuracy: 0.3167 - 37ms/epoch - 2ms/step\n",
            "Epoch 21/200\n",
            "24/24 - 0s - loss: 0.0000e+00 - accuracy: 0.3167 - 35ms/epoch - 1ms/step\n",
            "Epoch 22/200\n",
            "24/24 - 0s - loss: 0.0000e+00 - accuracy: 0.3167 - 31ms/epoch - 1ms/step\n",
            "Epoch 23/200\n",
            "24/24 - 0s - loss: 0.0000e+00 - accuracy: 0.3167 - 33ms/epoch - 1ms/step\n",
            "Epoch 24/200\n",
            "24/24 - 0s - loss: 0.0000e+00 - accuracy: 0.3167 - 31ms/epoch - 1ms/step\n",
            "Epoch 25/200\n",
            "24/24 - 0s - loss: 0.0000e+00 - accuracy: 0.3167 - 32ms/epoch - 1ms/step\n",
            "Epoch 26/200\n",
            "24/24 - 0s - loss: 0.0000e+00 - accuracy: 0.3167 - 33ms/epoch - 1ms/step\n",
            "Epoch 27/200\n",
            "24/24 - 0s - loss: 0.0000e+00 - accuracy: 0.3167 - 37ms/epoch - 2ms/step\n",
            "Epoch 28/200\n",
            "24/24 - 0s - loss: 0.0000e+00 - accuracy: 0.3167 - 32ms/epoch - 1ms/step\n",
            "Epoch 29/200\n",
            "24/24 - 0s - loss: 0.0000e+00 - accuracy: 0.3167 - 39ms/epoch - 2ms/step\n",
            "Epoch 30/200\n",
            "24/24 - 0s - loss: 0.0000e+00 - accuracy: 0.3167 - 42ms/epoch - 2ms/step\n",
            "Epoch 31/200\n",
            "24/24 - 0s - loss: 0.0000e+00 - accuracy: 0.3167 - 27ms/epoch - 1ms/step\n",
            "Epoch 32/200\n",
            "24/24 - 0s - loss: 0.0000e+00 - accuracy: 0.3167 - 30ms/epoch - 1ms/step\n",
            "Epoch 33/200\n",
            "24/24 - 0s - loss: 0.0000e+00 - accuracy: 0.3167 - 35ms/epoch - 1ms/step\n",
            "Epoch 34/200\n",
            "24/24 - 0s - loss: 0.0000e+00 - accuracy: 0.3167 - 31ms/epoch - 1ms/step\n",
            "Epoch 35/200\n",
            "24/24 - 0s - loss: 0.0000e+00 - accuracy: 0.3167 - 32ms/epoch - 1ms/step\n",
            "Epoch 36/200\n",
            "24/24 - 0s - loss: 0.0000e+00 - accuracy: 0.3167 - 29ms/epoch - 1ms/step\n",
            "Epoch 37/200\n",
            "24/24 - 0s - loss: 0.0000e+00 - accuracy: 0.3167 - 28ms/epoch - 1ms/step\n",
            "Epoch 38/200\n",
            "24/24 - 0s - loss: 0.0000e+00 - accuracy: 0.3167 - 29ms/epoch - 1ms/step\n",
            "Epoch 39/200\n",
            "24/24 - 0s - loss: 0.0000e+00 - accuracy: 0.3167 - 25ms/epoch - 1ms/step\n",
            "Epoch 40/200\n",
            "24/24 - 0s - loss: 0.0000e+00 - accuracy: 0.3167 - 33ms/epoch - 1ms/step\n",
            "Epoch 41/200\n",
            "24/24 - 0s - loss: 0.0000e+00 - accuracy: 0.3167 - 30ms/epoch - 1ms/step\n",
            "Epoch 42/200\n",
            "24/24 - 0s - loss: 0.0000e+00 - accuracy: 0.3167 - 32ms/epoch - 1ms/step\n",
            "Epoch 43/200\n",
            "24/24 - 0s - loss: 0.0000e+00 - accuracy: 0.3167 - 38ms/epoch - 2ms/step\n",
            "Epoch 44/200\n",
            "24/24 - 0s - loss: 0.0000e+00 - accuracy: 0.3167 - 30ms/epoch - 1ms/step\n",
            "Epoch 45/200\n",
            "24/24 - 0s - loss: 0.0000e+00 - accuracy: 0.3167 - 34ms/epoch - 1ms/step\n",
            "Epoch 46/200\n",
            "24/24 - 0s - loss: 0.0000e+00 - accuracy: 0.3167 - 31ms/epoch - 1ms/step\n",
            "Epoch 47/200\n",
            "24/24 - 0s - loss: 0.0000e+00 - accuracy: 0.3167 - 32ms/epoch - 1ms/step\n",
            "Epoch 48/200\n",
            "24/24 - 0s - loss: 0.0000e+00 - accuracy: 0.3167 - 36ms/epoch - 1ms/step\n",
            "Epoch 49/200\n",
            "24/24 - 0s - loss: 0.0000e+00 - accuracy: 0.3167 - 32ms/epoch - 1ms/step\n",
            "Epoch 50/200\n",
            "24/24 - 0s - loss: 0.0000e+00 - accuracy: 0.3167 - 32ms/epoch - 1ms/step\n",
            "Epoch 51/200\n",
            "24/24 - 0s - loss: 0.0000e+00 - accuracy: 0.3167 - 31ms/epoch - 1ms/step\n",
            "Epoch 52/200\n",
            "24/24 - 0s - loss: 0.0000e+00 - accuracy: 0.3167 - 35ms/epoch - 1ms/step\n",
            "Epoch 53/200\n",
            "24/24 - 0s - loss: 0.0000e+00 - accuracy: 0.3167 - 38ms/epoch - 2ms/step\n",
            "Epoch 54/200\n",
            "24/24 - 0s - loss: 0.0000e+00 - accuracy: 0.3167 - 34ms/epoch - 1ms/step\n",
            "Epoch 55/200\n",
            "24/24 - 0s - loss: 0.0000e+00 - accuracy: 0.3167 - 34ms/epoch - 1ms/step\n",
            "Epoch 56/200\n",
            "24/24 - 0s - loss: 0.0000e+00 - accuracy: 0.3167 - 39ms/epoch - 2ms/step\n",
            "Epoch 57/200\n",
            "24/24 - 0s - loss: 0.0000e+00 - accuracy: 0.3167 - 36ms/epoch - 1ms/step\n",
            "Epoch 58/200\n",
            "24/24 - 0s - loss: 0.0000e+00 - accuracy: 0.3167 - 31ms/epoch - 1ms/step\n",
            "Epoch 59/200\n",
            "24/24 - 0s - loss: 0.0000e+00 - accuracy: 0.3167 - 30ms/epoch - 1ms/step\n",
            "Epoch 60/200\n",
            "24/24 - 0s - loss: 0.0000e+00 - accuracy: 0.3167 - 32ms/epoch - 1ms/step\n",
            "Epoch 61/200\n",
            "24/24 - 0s - loss: 0.0000e+00 - accuracy: 0.3167 - 38ms/epoch - 2ms/step\n",
            "Epoch 62/200\n",
            "24/24 - 0s - loss: 0.0000e+00 - accuracy: 0.3167 - 34ms/epoch - 1ms/step\n",
            "Epoch 63/200\n",
            "24/24 - 0s - loss: 0.0000e+00 - accuracy: 0.3167 - 37ms/epoch - 2ms/step\n",
            "Epoch 64/200\n",
            "24/24 - 0s - loss: 0.0000e+00 - accuracy: 0.3167 - 43ms/epoch - 2ms/step\n",
            "Epoch 65/200\n",
            "24/24 - 0s - loss: 0.0000e+00 - accuracy: 0.3167 - 30ms/epoch - 1ms/step\n",
            "Epoch 66/200\n",
            "24/24 - 0s - loss: 0.0000e+00 - accuracy: 0.3167 - 37ms/epoch - 2ms/step\n",
            "Epoch 67/200\n",
            "24/24 - 0s - loss: 0.0000e+00 - accuracy: 0.3167 - 35ms/epoch - 1ms/step\n",
            "Epoch 68/200\n",
            "24/24 - 0s - loss: 0.0000e+00 - accuracy: 0.3167 - 30ms/epoch - 1ms/step\n",
            "Epoch 69/200\n",
            "24/24 - 0s - loss: 0.0000e+00 - accuracy: 0.3167 - 33ms/epoch - 1ms/step\n",
            "Epoch 70/200\n",
            "24/24 - 0s - loss: 0.0000e+00 - accuracy: 0.3167 - 39ms/epoch - 2ms/step\n",
            "Epoch 71/200\n",
            "24/24 - 0s - loss: 0.0000e+00 - accuracy: 0.3167 - 35ms/epoch - 1ms/step\n",
            "Epoch 72/200\n",
            "24/24 - 0s - loss: 0.0000e+00 - accuracy: 0.3167 - 28ms/epoch - 1ms/step\n",
            "Epoch 73/200\n",
            "24/24 - 0s - loss: 0.0000e+00 - accuracy: 0.3167 - 32ms/epoch - 1ms/step\n",
            "Epoch 74/200\n",
            "24/24 - 0s - loss: 0.0000e+00 - accuracy: 0.3167 - 32ms/epoch - 1ms/step\n",
            "Epoch 75/200\n",
            "24/24 - 0s - loss: 0.0000e+00 - accuracy: 0.3167 - 33ms/epoch - 1ms/step\n",
            "Epoch 76/200\n",
            "24/24 - 0s - loss: 0.0000e+00 - accuracy: 0.3167 - 36ms/epoch - 2ms/step\n",
            "Epoch 77/200\n",
            "24/24 - 0s - loss: 0.0000e+00 - accuracy: 0.3167 - 32ms/epoch - 1ms/step\n",
            "Epoch 78/200\n",
            "24/24 - 0s - loss: 0.0000e+00 - accuracy: 0.3167 - 36ms/epoch - 1ms/step\n",
            "Epoch 79/200\n",
            "24/24 - 0s - loss: 0.0000e+00 - accuracy: 0.3167 - 37ms/epoch - 2ms/step\n",
            "Epoch 80/200\n",
            "24/24 - 0s - loss: 0.0000e+00 - accuracy: 0.3167 - 29ms/epoch - 1ms/step\n",
            "Epoch 81/200\n",
            "24/24 - 0s - loss: 0.0000e+00 - accuracy: 0.3167 - 30ms/epoch - 1ms/step\n",
            "Epoch 82/200\n",
            "24/24 - 0s - loss: 0.0000e+00 - accuracy: 0.3167 - 32ms/epoch - 1ms/step\n",
            "Epoch 83/200\n",
            "24/24 - 0s - loss: 0.0000e+00 - accuracy: 0.3167 - 37ms/epoch - 2ms/step\n",
            "Epoch 84/200\n",
            "24/24 - 0s - loss: 0.0000e+00 - accuracy: 0.3167 - 40ms/epoch - 2ms/step\n",
            "Epoch 85/200\n",
            "24/24 - 0s - loss: 0.0000e+00 - accuracy: 0.3167 - 33ms/epoch - 1ms/step\n",
            "Epoch 86/200\n",
            "24/24 - 0s - loss: 0.0000e+00 - accuracy: 0.3167 - 31ms/epoch - 1ms/step\n",
            "Epoch 87/200\n",
            "24/24 - 0s - loss: 0.0000e+00 - accuracy: 0.3167 - 29ms/epoch - 1ms/step\n",
            "Epoch 88/200\n",
            "24/24 - 0s - loss: 0.0000e+00 - accuracy: 0.3167 - 35ms/epoch - 1ms/step\n",
            "Epoch 89/200\n",
            "24/24 - 0s - loss: 0.0000e+00 - accuracy: 0.3167 - 28ms/epoch - 1ms/step\n",
            "Epoch 90/200\n",
            "24/24 - 0s - loss: 0.0000e+00 - accuracy: 0.3167 - 31ms/epoch - 1ms/step\n",
            "Epoch 91/200\n",
            "24/24 - 0s - loss: 0.0000e+00 - accuracy: 0.3167 - 38ms/epoch - 2ms/step\n",
            "Epoch 92/200\n",
            "24/24 - 0s - loss: 0.0000e+00 - accuracy: 0.3167 - 40ms/epoch - 2ms/step\n",
            "Epoch 93/200\n",
            "24/24 - 0s - loss: 0.0000e+00 - accuracy: 0.3167 - 30ms/epoch - 1ms/step\n",
            "Epoch 94/200\n",
            "24/24 - 0s - loss: 0.0000e+00 - accuracy: 0.3167 - 29ms/epoch - 1ms/step\n",
            "Epoch 95/200\n",
            "24/24 - 0s - loss: 0.0000e+00 - accuracy: 0.3167 - 28ms/epoch - 1ms/step\n",
            "Epoch 96/200\n",
            "24/24 - 0s - loss: 0.0000e+00 - accuracy: 0.3167 - 30ms/epoch - 1ms/step\n",
            "Epoch 97/200\n",
            "24/24 - 0s - loss: 0.0000e+00 - accuracy: 0.3167 - 32ms/epoch - 1ms/step\n",
            "Epoch 98/200\n",
            "24/24 - 0s - loss: 0.0000e+00 - accuracy: 0.3167 - 38ms/epoch - 2ms/step\n",
            "Epoch 99/200\n",
            "24/24 - 0s - loss: 0.0000e+00 - accuracy: 0.3167 - 33ms/epoch - 1ms/step\n",
            "Epoch 100/200\n",
            "24/24 - 0s - loss: 0.0000e+00 - accuracy: 0.3167 - 41ms/epoch - 2ms/step\n",
            "Epoch 101/200\n",
            "24/24 - 0s - loss: 0.0000e+00 - accuracy: 0.3167 - 34ms/epoch - 1ms/step\n",
            "Epoch 102/200\n",
            "24/24 - 0s - loss: 0.0000e+00 - accuracy: 0.3167 - 30ms/epoch - 1ms/step\n",
            "Epoch 103/200\n",
            "24/24 - 0s - loss: 0.0000e+00 - accuracy: 0.3167 - 34ms/epoch - 1ms/step\n",
            "Epoch 104/200\n",
            "24/24 - 0s - loss: 0.0000e+00 - accuracy: 0.3167 - 30ms/epoch - 1ms/step\n",
            "Epoch 105/200\n",
            "24/24 - 0s - loss: 0.0000e+00 - accuracy: 0.3167 - 33ms/epoch - 1ms/step\n",
            "Epoch 106/200\n",
            "24/24 - 0s - loss: 0.0000e+00 - accuracy: 0.3167 - 40ms/epoch - 2ms/step\n",
            "Epoch 107/200\n",
            "24/24 - 0s - loss: 0.0000e+00 - accuracy: 0.3167 - 33ms/epoch - 1ms/step\n",
            "Epoch 108/200\n",
            "24/24 - 0s - loss: 0.0000e+00 - accuracy: 0.3167 - 38ms/epoch - 2ms/step\n",
            "Epoch 109/200\n",
            "24/24 - 0s - loss: 0.0000e+00 - accuracy: 0.3167 - 42ms/epoch - 2ms/step\n",
            "Epoch 110/200\n",
            "24/24 - 0s - loss: 0.0000e+00 - accuracy: 0.3167 - 35ms/epoch - 1ms/step\n",
            "Epoch 111/200\n",
            "24/24 - 0s - loss: 0.0000e+00 - accuracy: 0.3167 - 34ms/epoch - 1ms/step\n",
            "Epoch 112/200\n",
            "24/24 - 0s - loss: 0.0000e+00 - accuracy: 0.3167 - 34ms/epoch - 1ms/step\n",
            "Epoch 113/200\n",
            "24/24 - 0s - loss: 0.0000e+00 - accuracy: 0.3167 - 29ms/epoch - 1ms/step\n",
            "Epoch 114/200\n",
            "24/24 - 0s - loss: 0.0000e+00 - accuracy: 0.3167 - 36ms/epoch - 2ms/step\n",
            "Epoch 115/200\n",
            "24/24 - 0s - loss: 0.0000e+00 - accuracy: 0.3167 - 34ms/epoch - 1ms/step\n",
            "Epoch 116/200\n",
            "24/24 - 0s - loss: 0.0000e+00 - accuracy: 0.3167 - 32ms/epoch - 1ms/step\n",
            "Epoch 117/200\n",
            "24/24 - 0s - loss: 0.0000e+00 - accuracy: 0.3167 - 32ms/epoch - 1ms/step\n",
            "Epoch 118/200\n",
            "24/24 - 0s - loss: 0.0000e+00 - accuracy: 0.3167 - 41ms/epoch - 2ms/step\n",
            "Epoch 119/200\n",
            "24/24 - 0s - loss: 0.0000e+00 - accuracy: 0.3167 - 28ms/epoch - 1ms/step\n",
            "Epoch 120/200\n",
            "24/24 - 0s - loss: 0.0000e+00 - accuracy: 0.3167 - 34ms/epoch - 1ms/step\n",
            "Epoch 121/200\n",
            "24/24 - 0s - loss: 0.0000e+00 - accuracy: 0.3167 - 38ms/epoch - 2ms/step\n",
            "Epoch 122/200\n",
            "24/24 - 0s - loss: 0.0000e+00 - accuracy: 0.3167 - 29ms/epoch - 1ms/step\n",
            "Epoch 123/200\n",
            "24/24 - 0s - loss: 0.0000e+00 - accuracy: 0.3167 - 32ms/epoch - 1ms/step\n",
            "Epoch 124/200\n",
            "24/24 - 0s - loss: 0.0000e+00 - accuracy: 0.3167 - 40ms/epoch - 2ms/step\n",
            "Epoch 125/200\n",
            "24/24 - 0s - loss: 0.0000e+00 - accuracy: 0.3167 - 31ms/epoch - 1ms/step\n",
            "Epoch 126/200\n",
            "24/24 - 0s - loss: 0.0000e+00 - accuracy: 0.3167 - 30ms/epoch - 1ms/step\n",
            "Epoch 127/200\n",
            "24/24 - 0s - loss: 0.0000e+00 - accuracy: 0.3167 - 36ms/epoch - 2ms/step\n",
            "Epoch 128/200\n",
            "24/24 - 0s - loss: 0.0000e+00 - accuracy: 0.3167 - 41ms/epoch - 2ms/step\n",
            "Epoch 129/200\n",
            "24/24 - 0s - loss: 0.0000e+00 - accuracy: 0.3167 - 25ms/epoch - 1ms/step\n",
            "Epoch 130/200\n",
            "24/24 - 0s - loss: 0.0000e+00 - accuracy: 0.3167 - 37ms/epoch - 2ms/step\n",
            "Epoch 131/200\n",
            "24/24 - 0s - loss: 0.0000e+00 - accuracy: 0.3167 - 31ms/epoch - 1ms/step\n",
            "Epoch 132/200\n",
            "24/24 - 0s - loss: 0.0000e+00 - accuracy: 0.3167 - 32ms/epoch - 1ms/step\n",
            "Epoch 133/200\n",
            "24/24 - 0s - loss: 0.0000e+00 - accuracy: 0.3167 - 31ms/epoch - 1ms/step\n",
            "Epoch 134/200\n",
            "24/24 - 0s - loss: 0.0000e+00 - accuracy: 0.3167 - 48ms/epoch - 2ms/step\n",
            "Epoch 135/200\n",
            "24/24 - 0s - loss: 0.0000e+00 - accuracy: 0.3167 - 33ms/epoch - 1ms/step\n",
            "Epoch 136/200\n",
            "24/24 - 0s - loss: 0.0000e+00 - accuracy: 0.3167 - 34ms/epoch - 1ms/step\n",
            "Epoch 137/200\n",
            "24/24 - 0s - loss: 0.0000e+00 - accuracy: 0.3167 - 34ms/epoch - 1ms/step\n",
            "Epoch 138/200\n",
            "24/24 - 0s - loss: 0.0000e+00 - accuracy: 0.3167 - 30ms/epoch - 1ms/step\n",
            "Epoch 139/200\n",
            "24/24 - 0s - loss: 0.0000e+00 - accuracy: 0.3167 - 40ms/epoch - 2ms/step\n",
            "Epoch 140/200\n",
            "24/24 - 0s - loss: 0.0000e+00 - accuracy: 0.3167 - 37ms/epoch - 2ms/step\n",
            "Epoch 141/200\n",
            "24/24 - 0s - loss: 0.0000e+00 - accuracy: 0.3167 - 28ms/epoch - 1ms/step\n",
            "Epoch 142/200\n",
            "24/24 - 0s - loss: 0.0000e+00 - accuracy: 0.3167 - 33ms/epoch - 1ms/step\n",
            "Epoch 143/200\n",
            "24/24 - 0s - loss: 0.0000e+00 - accuracy: 0.3167 - 39ms/epoch - 2ms/step\n",
            "Epoch 144/200\n",
            "24/24 - 0s - loss: 0.0000e+00 - accuracy: 0.3167 - 35ms/epoch - 1ms/step\n",
            "Epoch 145/200\n",
            "24/24 - 0s - loss: 0.0000e+00 - accuracy: 0.3167 - 31ms/epoch - 1ms/step\n",
            "Epoch 146/200\n",
            "24/24 - 0s - loss: 0.0000e+00 - accuracy: 0.3167 - 40ms/epoch - 2ms/step\n",
            "Epoch 147/200\n",
            "24/24 - 0s - loss: 0.0000e+00 - accuracy: 0.3167 - 35ms/epoch - 1ms/step\n",
            "Epoch 148/200\n",
            "24/24 - 0s - loss: 0.0000e+00 - accuracy: 0.3167 - 36ms/epoch - 1ms/step\n",
            "Epoch 149/200\n",
            "24/24 - 0s - loss: 0.0000e+00 - accuracy: 0.3167 - 32ms/epoch - 1ms/step\n",
            "Epoch 150/200\n",
            "24/24 - 0s - loss: 0.0000e+00 - accuracy: 0.3167 - 40ms/epoch - 2ms/step\n",
            "Epoch 151/200\n",
            "24/24 - 0s - loss: 0.0000e+00 - accuracy: 0.3167 - 29ms/epoch - 1ms/step\n",
            "Epoch 152/200\n",
            "24/24 - 0s - loss: 0.0000e+00 - accuracy: 0.3167 - 29ms/epoch - 1ms/step\n",
            "Epoch 153/200\n",
            "24/24 - 0s - loss: 0.0000e+00 - accuracy: 0.3167 - 35ms/epoch - 1ms/step\n",
            "Epoch 154/200\n",
            "24/24 - 0s - loss: 0.0000e+00 - accuracy: 0.3167 - 36ms/epoch - 2ms/step\n",
            "Epoch 155/200\n",
            "24/24 - 0s - loss: 0.0000e+00 - accuracy: 0.3167 - 31ms/epoch - 1ms/step\n",
            "Epoch 156/200\n",
            "24/24 - 0s - loss: 0.0000e+00 - accuracy: 0.3167 - 35ms/epoch - 1ms/step\n",
            "Epoch 157/200\n",
            "24/24 - 0s - loss: 0.0000e+00 - accuracy: 0.3167 - 35ms/epoch - 1ms/step\n",
            "Epoch 158/200\n",
            "24/24 - 0s - loss: 0.0000e+00 - accuracy: 0.3167 - 35ms/epoch - 1ms/step\n",
            "Epoch 159/200\n",
            "24/24 - 0s - loss: 0.0000e+00 - accuracy: 0.3167 - 34ms/epoch - 1ms/step\n",
            "Epoch 160/200\n",
            "24/24 - 0s - loss: 0.0000e+00 - accuracy: 0.3167 - 30ms/epoch - 1ms/step\n",
            "Epoch 161/200\n",
            "24/24 - 0s - loss: 0.0000e+00 - accuracy: 0.3167 - 29ms/epoch - 1ms/step\n",
            "Epoch 162/200\n",
            "24/24 - 0s - loss: 0.0000e+00 - accuracy: 0.3167 - 39ms/epoch - 2ms/step\n",
            "Epoch 163/200\n",
            "24/24 - 0s - loss: 0.0000e+00 - accuracy: 0.3167 - 35ms/epoch - 1ms/step\n",
            "Epoch 164/200\n",
            "24/24 - 0s - loss: 0.0000e+00 - accuracy: 0.3167 - 34ms/epoch - 1ms/step\n",
            "Epoch 165/200\n",
            "24/24 - 0s - loss: 0.0000e+00 - accuracy: 0.3167 - 33ms/epoch - 1ms/step\n",
            "Epoch 166/200\n",
            "24/24 - 0s - loss: 0.0000e+00 - accuracy: 0.3167 - 45ms/epoch - 2ms/step\n",
            "Epoch 167/200\n",
            "24/24 - 0s - loss: 0.0000e+00 - accuracy: 0.3167 - 34ms/epoch - 1ms/step\n",
            "Epoch 168/200\n",
            "24/24 - 0s - loss: 0.0000e+00 - accuracy: 0.3167 - 33ms/epoch - 1ms/step\n",
            "Epoch 169/200\n",
            "24/24 - 0s - loss: 0.0000e+00 - accuracy: 0.3167 - 32ms/epoch - 1ms/step\n",
            "Epoch 170/200\n",
            "24/24 - 0s - loss: 0.0000e+00 - accuracy: 0.3167 - 34ms/epoch - 1ms/step\n",
            "Epoch 171/200\n",
            "24/24 - 0s - loss: 0.0000e+00 - accuracy: 0.3167 - 37ms/epoch - 2ms/step\n",
            "Epoch 172/200\n",
            "24/24 - 0s - loss: 0.0000e+00 - accuracy: 0.3167 - 42ms/epoch - 2ms/step\n",
            "Epoch 173/200\n",
            "24/24 - 0s - loss: 0.0000e+00 - accuracy: 0.3167 - 32ms/epoch - 1ms/step\n",
            "Epoch 174/200\n",
            "24/24 - 0s - loss: 0.0000e+00 - accuracy: 0.3167 - 31ms/epoch - 1ms/step\n",
            "Epoch 175/200\n",
            "24/24 - 0s - loss: 0.0000e+00 - accuracy: 0.3167 - 36ms/epoch - 1ms/step\n",
            "Epoch 176/200\n",
            "24/24 - 0s - loss: 0.0000e+00 - accuracy: 0.3167 - 37ms/epoch - 2ms/step\n",
            "Epoch 177/200\n",
            "24/24 - 0s - loss: 0.0000e+00 - accuracy: 0.3167 - 30ms/epoch - 1ms/step\n",
            "Epoch 178/200\n",
            "24/24 - 0s - loss: 0.0000e+00 - accuracy: 0.3167 - 29ms/epoch - 1ms/step\n",
            "Epoch 179/200\n",
            "24/24 - 0s - loss: 0.0000e+00 - accuracy: 0.3167 - 33ms/epoch - 1ms/step\n",
            "Epoch 180/200\n",
            "24/24 - 0s - loss: 0.0000e+00 - accuracy: 0.3167 - 33ms/epoch - 1ms/step\n",
            "Epoch 181/200\n",
            "24/24 - 0s - loss: 0.0000e+00 - accuracy: 0.3167 - 33ms/epoch - 1ms/step\n",
            "Epoch 182/200\n",
            "24/24 - 0s - loss: 0.0000e+00 - accuracy: 0.3167 - 31ms/epoch - 1ms/step\n",
            "Epoch 183/200\n",
            "24/24 - 0s - loss: 0.0000e+00 - accuracy: 0.3167 - 30ms/epoch - 1ms/step\n",
            "Epoch 184/200\n",
            "24/24 - 0s - loss: 0.0000e+00 - accuracy: 0.3167 - 42ms/epoch - 2ms/step\n",
            "Epoch 185/200\n",
            "24/24 - 0s - loss: 0.0000e+00 - accuracy: 0.3167 - 42ms/epoch - 2ms/step\n",
            "Epoch 186/200\n",
            "24/24 - 0s - loss: 0.0000e+00 - accuracy: 0.3167 - 33ms/epoch - 1ms/step\n",
            "Epoch 187/200\n",
            "24/24 - 0s - loss: 0.0000e+00 - accuracy: 0.3167 - 36ms/epoch - 2ms/step\n",
            "Epoch 188/200\n",
            "24/24 - 0s - loss: 0.0000e+00 - accuracy: 0.3167 - 46ms/epoch - 2ms/step\n",
            "Epoch 189/200\n",
            "24/24 - 0s - loss: 0.0000e+00 - accuracy: 0.3167 - 38ms/epoch - 2ms/step\n",
            "Epoch 190/200\n",
            "24/24 - 0s - loss: 0.0000e+00 - accuracy: 0.3167 - 25ms/epoch - 1ms/step\n",
            "Epoch 191/200\n",
            "24/24 - 0s - loss: 0.0000e+00 - accuracy: 0.3167 - 33ms/epoch - 1ms/step\n",
            "Epoch 192/200\n",
            "24/24 - 0s - loss: 0.0000e+00 - accuracy: 0.3167 - 34ms/epoch - 1ms/step\n",
            "Epoch 193/200\n",
            "24/24 - 0s - loss: 0.0000e+00 - accuracy: 0.3167 - 42ms/epoch - 2ms/step\n",
            "Epoch 194/200\n",
            "24/24 - 0s - loss: 0.0000e+00 - accuracy: 0.3167 - 31ms/epoch - 1ms/step\n",
            "Epoch 195/200\n",
            "24/24 - 0s - loss: 0.0000e+00 - accuracy: 0.3167 - 30ms/epoch - 1ms/step\n",
            "Epoch 196/200\n",
            "24/24 - 0s - loss: 0.0000e+00 - accuracy: 0.3167 - 39ms/epoch - 2ms/step\n",
            "Epoch 197/200\n",
            "24/24 - 0s - loss: 0.0000e+00 - accuracy: 0.3167 - 37ms/epoch - 2ms/step\n",
            "Epoch 198/200\n",
            "24/24 - 0s - loss: 0.0000e+00 - accuracy: 0.3167 - 30ms/epoch - 1ms/step\n",
            "Epoch 199/200\n",
            "24/24 - 0s - loss: 0.0000e+00 - accuracy: 0.3167 - 29ms/epoch - 1ms/step\n",
            "Epoch 200/200\n",
            "24/24 - 0s - loss: 0.0000e+00 - accuracy: 0.3167 - 34ms/epoch - 1ms/step\n"
          ]
        },
        {
          "output_type": "execute_result",
          "data": {
            "text/plain": [
              "<keras.callbacks.History at 0x7fd299ca9250>"
            ]
          },
          "metadata": {},
          "execution_count": 10
        }
      ]
    },
    {
      "cell_type": "code",
      "source": [
        "model_results = model.evaluate(test_x, test_y, verbose= 0)"
      ],
      "metadata": {
        "id": "gUfBm1NKDqXl"
      },
      "execution_count": 11,
      "outputs": []
    },
    {
      "cell_type": "code",
      "source": [
        "print(model_results) #(Loss, Accuracy)"
      ],
      "metadata": {
        "colab": {
          "base_uri": "https://localhost:8080/"
        },
        "id": "McwMd9UWED_u",
        "outputId": "7fcc3683-e067-433c-abc8-df81380d371d"
      },
      "execution_count": 12,
      "outputs": [
        {
          "output_type": "stream",
          "name": "stdout",
          "text": [
            "[0.0, 0.4000000059604645]\n"
          ]
        }
      ]
    },
    {
      "cell_type": "markdown",
      "source": [
        "The results above are the loss and accuracy of this model evaluated on the test set. The loss is zero, which is expected. However, the model was only 40% accurate in picking the best category. This model could be improved by allowing dropout between the Dense layers to avoid overfitting."
      ],
      "metadata": {
        "id": "BlNn8kgAEY3V"
      }
    }
  ],
  "metadata": {
    "colab": {
      "name": "Module8_ex2.ipynb",
      "provenance": [],
      "collapsed_sections": [],
      "authorship_tag": "ABX9TyNooT4JyS2zcjucSBR3ogoH",
      "include_colab_link": true
    },
    "kernelspec": {
      "display_name": "Python 3",
      "name": "python3"
    },
    "language_info": {
      "name": "python"
    }
  },
  "nbformat": 4,
  "nbformat_minor": 0
}